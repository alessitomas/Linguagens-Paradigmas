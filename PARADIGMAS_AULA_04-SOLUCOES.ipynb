{
  "nbformat": 4,
  "nbformat_minor": 0,
  "metadata": {
    "colab": {
      "name": "PARADIGMAS-AULA 04.ipynb",
      "provenance": [],
      "include_colab_link": true
    },
    "kernelspec": {
      "name": "python3",
      "display_name": "Python 3"
    }
  },
  "cells": [
    {
      "cell_type": "markdown",
      "metadata": {
        "id": "view-in-github",
        "colab_type": "text"
      },
      "source": [
        "<a href=\"https://colab.research.google.com/github/alessitomas/Linguagens-Paradigmas/blob/main/PARADIGMAS_AULA_04-SOLUCOES.ipynb\" target=\"_parent\"><img src=\"https://colab.research.google.com/assets/colab-badge.svg\" alt=\"Open In Colab\"/></a>"
      ]
    },
    {
      "cell_type": "markdown",
      "metadata": {
        "id": "EwxHf3E81Qyz"
      },
      "source": [
        "**LINGUAGENS E PARADIGMAS - AULA 04**\n",
        "\n",
        "**Prof. Luciano Silva**\n",
        "\n",
        "**OBJETIVOS DA AULA:**\n",
        "\n",
        "\n",
        "\n",
        "*   Entender o design pattern Visitor em Python\n",
        "*   Entender e praticar com Visitor para percorrer a árvore sintática\n"
      ]
    },
    {
      "cell_type": "code",
      "metadata": {
        "id": "CbWUx55j1tLM",
        "outputId": "52fc2ae5-6535-4af7-9701-68c28164e8c6",
        "colab": {
          "base_uri": "https://localhost:8080/"
        }
      },
      "source": [
        "!pip install rply"
      ],
      "execution_count": 6,
      "outputs": [
        {
          "output_type": "stream",
          "name": "stdout",
          "text": [
            "Collecting rply\n",
            "  Downloading rply-0.7.8-py2.py3-none-any.whl (16 kB)\n",
            "Requirement already satisfied: appdirs in /usr/local/lib/python3.10/dist-packages (from rply) (1.4.4)\n",
            "Installing collected packages: rply\n",
            "Successfully installed rply-0.7.8\n"
          ]
        }
      ]
    },
    {
      "cell_type": "markdown",
      "metadata": {
        "id": "G3U1M0ZlL0gT"
      },
      "source": [
        "**DESIGN PATTERN VISITOR**\n",
        "\n",
        "O Visitor é um design pattern comportamental que permite adicionar novos comportamentos à hierarquia de classes existente sem alterar nenhum código existente.\n",
        "\n",
        "<img src=https://www.oodesign.com/images/behavioral/visitor-pattern.png> </img>\n",
        "\n",
        "\n",
        "Vamos implementar este design pattern para as classes abaixo:"
      ]
    },
    {
      "cell_type": "code",
      "metadata": {
        "id": "FeJAdrR_RsJe"
      },
      "source": [
        "# class Expr(object):\n",
        "#     def accept(self, visitor):\n",
        "#         method_name = 'visit_{}'.format(self.__class__.__name__.lower())\n",
        "#         visit = getattr(visitor, method_name)\n",
        "#         return visit(self)\n",
        "from rply.token import BaseBox\n",
        "\n",
        "class Int(BaseBox):\n",
        "    def __init__(self, value):\n",
        "        self.value = value\n",
        "    def accept(self,visitor):\n",
        "      return visitor.visit_int(self)\n",
        "\n",
        "\n",
        "class Add(BaseBox):\n",
        "    def __init__(self, left, right):\n",
        "        self.left = left\n",
        "        self.right = right\n",
        "    def accept(self,visitor):\n",
        "      return visitor.visit_add(self)\n",
        "\n",
        "\n",
        "class Mul(BaseBox):\n",
        "    def __init__(self, left, right):\n",
        "        self.left = left\n",
        "        self.right = right\n",
        "    def accept(self,visitor):\n",
        "      return visitor.visit_mul(self)\n"
      ],
      "execution_count": 16,
      "outputs": []
    },
    {
      "cell_type": "code",
      "metadata": {
        "id": "5pr65X4rb9x_"
      },
      "source": [
        "class Visitor(object):\n",
        "    pass\n",
        "\n",
        "\n",
        "class Eval(Visitor):\n",
        "    def visit_int(self, i):\n",
        "        return i.value\n",
        "\n",
        "    def visit_add(self, a):\n",
        "        return a.left.accept(self) + a.right.accept(self)\n",
        "\n",
        "    def visit_mul(self, a):\n",
        "        return a.left.accept(self) * a.right.accept(self)\n",
        "\n",
        "\n",
        "class Print(Visitor):\n",
        "    def visit_int(self, i):\n",
        "        return i.value\n",
        "\n",
        "    def visit_add(self, a):\n",
        "        return '(+ {} {})'.format(a.left.accept(self), a.right.accept(self))\n",
        "\n",
        "    def visit_mul(self, a):\n",
        "        return '(* {} {})'.format(a.left.accept(self), a.right.accept(self))\n"
      ],
      "execution_count": 17,
      "outputs": []
    },
    {
      "cell_type": "code",
      "metadata": {
        "id": "xQxlP6sHcB3Q",
        "outputId": "01b3c186-f3d1-43d6-c707-3c1aee9f710c",
        "colab": {
          "base_uri": "https://localhost:8080/"
        }
      },
      "source": [
        "expr = Add(Add(Int(4), Int(3)), Mul(Int(10), Add(Int(1), Int(1))))\n",
        "print(expr.accept(Print()))\n",
        "print(expr.accept(Eval()))"
      ],
      "execution_count": 18,
      "outputs": [
        {
          "output_type": "stream",
          "name": "stdout",
          "text": [
            "(+ (+ 4 3) (* 10 (+ 1 1)))\n",
            "27\n"
          ]
        }
      ]
    },
    {
      "cell_type": "markdown",
      "metadata": {
        "id": "WDogT1ytJrEt"
      },
      "source": [
        "**EXERCÍCIOS**\n",
        "\n",
        "Implementar um visitor de impressão e outro de cálculo da expressão para a gramática abaixo:\n",
        "\n",
        "\\<expression\\> ::= NUMBER\n",
        "\n",
        "       | \\<expression\\> \"+\" \\<expression\\>\n",
        "\n",
        "       | \\<expression\\> \"-\" \\<expression\\>\n",
        "\n",
        "       | \\<expression\\> \"*\" \\<expression\\>\n",
        "\n",
        "       | \\<expression\\> \"/\" \\<expression\\>\n",
        "\n",
        "       | \"(\" <expression> \")\""
      ]
    },
    {
      "cell_type": "code",
      "metadata": {
        "id": "AohGQ2yWKDli"
      },
      "source": [
        "from rply import LexerGenerator\n",
        "\n",
        "lg = LexerGenerator()\n",
        "\n",
        "lg.add('NUMBER', r'\\d+')\n",
        "lg.add('PLUS', r'\\+')\n",
        "lg.add('MINUS', r'-')\n",
        "lg.add('MUL', r'\\*')\n",
        "lg.add('DIV', r'/')\n",
        "lg.add('OPEN_PARENS', r'\\(')\n",
        "lg.add('CLOSE_PARENS', r'\\)')\n",
        "\n",
        "lg.ignore('\\s+')\n",
        "\n",
        "lexer = lg.build()"
      ],
      "execution_count": 19,
      "outputs": []
    },
    {
      "cell_type": "code",
      "metadata": {
        "id": "RLcu5RuHDl6B"
      },
      "source": [
        "from rply.token import BaseBox\n",
        "\n",
        "class Number(BaseBox):\n",
        "    def __init__(self, value):\n",
        "        self.value = value\n",
        "\n",
        "    def accept(self,visitor):\n",
        "      return visitor.visit_number(self)\n",
        "\n",
        "class BinaryOp(BaseBox):\n",
        "    def __init__(self, left, right):\n",
        "        self.left = left\n",
        "        self.right = right\n",
        "\n",
        "class Add(BinaryOp):\n",
        "\n",
        "   def accept(self,visitor):\n",
        "      return visitor.visit_add(self)\n",
        "\n",
        "class Sub(BinaryOp):\n",
        "    def accept(self,visitor):\n",
        "      return visitor.visit_sub(self)\n",
        "\n",
        "class Mul(BinaryOp):\n",
        "    def accept(self,visitor):\n",
        "      return visitor.visit_mul(self)\n",
        "\n",
        "class Div(BinaryOp):\n",
        "    def accept(self,visitor):\n",
        "      return visitor.visit_div(self)\n"
      ],
      "execution_count": 20,
      "outputs": []
    },
    {
      "cell_type": "code",
      "source": [
        "class Eval(Visitor):\n",
        "\n",
        "  def visit_number(self,number):\n",
        "    return number.value\n",
        "\n",
        "  def visit_add(self,add):\n",
        "    return add.left.accept(self)+add.right.accept(self)\n",
        "\n",
        "  def visit_sub(self,add):\n",
        "    return add.left.accept(self)-add.right.accept(self)\n",
        "\n",
        "  def visit_mul(self,add):\n",
        "    return add.left.accept(self)*add.right.accept(self)\n",
        "\n",
        "  def visit_div(self,add):\n",
        "    return add.left.accept(self)/add.right.accept(self)\n"
      ],
      "metadata": {
        "id": "Utm74tedJ9aN"
      },
      "execution_count": 21,
      "outputs": []
    },
    {
      "cell_type": "code",
      "source": [
        "class Print(Visitor):\n",
        "\n",
        "  def visit_number(self,number):\n",
        "    print(number.value)\n",
        "\n",
        "  def visit_add(self,add):\n",
        "    add.left.accept(self)\n",
        "    print(\"+\")\n",
        "    add.right.accept(self)\n",
        "\n",
        "  def visit_sub(self,add):\n",
        "    add.left.accept(self)\n",
        "    print(\"-\")\n",
        "    add.right.accept(self)\n",
        "  def visit_mul(self,add):\n",
        "    add.left.accept(self)\n",
        "    print(\"*\")\n",
        "    add.right.accept(self)\n",
        "\n",
        "  def visit_div(self,add):\n",
        "    add.left.accept(self)\n",
        "    print(\"/\")\n",
        "    add.right.accept(self)"
      ],
      "metadata": {
        "id": "qAJhv0KsPs3o"
      },
      "execution_count": 22,
      "outputs": []
    },
    {
      "cell_type": "code",
      "metadata": {
        "id": "2MB_wWwWEGcX"
      },
      "source": [
        "from rply import ParserGenerator\n",
        "\n",
        "pg = ParserGenerator(\n",
        "    # A list of all token names, accepted by the lexer.\n",
        "    ['NUMBER', 'OPEN_PARENS', 'CLOSE_PARENS',\n",
        "     'PLUS', 'MINUS', 'MUL', 'DIV'\n",
        "    ],\n",
        "    # A list of precedence rules with ascending precedence, to\n",
        "    # disambiguate ambiguous production rules.\n",
        "    precedence=[\n",
        "        ('left', ['PLUS', 'MINUS']),\n",
        "        ('left', ['MUL', 'DIV'])\n",
        "    ]\n",
        ")\n",
        "\n",
        "@pg.production('expression : NUMBER')\n",
        "def expression_number(p):\n",
        "    # p is a list of the pieces matched by the right hand side of the\n",
        "    # rule\n",
        "    return Number(int(p[0].getstr()))\n",
        "\n",
        "@pg.production('expression : OPEN_PARENS expression CLOSE_PARENS')\n",
        "def expression_parens(p):\n",
        "    return p[1]\n",
        "\n",
        "@pg.production('expression : expression PLUS expression')\n",
        "@pg.production('expression : expression MINUS expression')\n",
        "@pg.production('expression : expression MUL expression')\n",
        "@pg.production('expression : expression DIV expression')\n",
        "def expression_binop(p):\n",
        "    left = p[0]\n",
        "    right = p[2]\n",
        "    if p[1].gettokentype() == 'PLUS':\n",
        "        return Add(left, right)\n",
        "    elif p[1].gettokentype() == 'MINUS':\n",
        "        return Sub(left, right)\n",
        "    elif p[1].gettokentype() == 'MUL':\n",
        "        return Mul(left, right)\n",
        "    elif p[1].gettokentype() == 'DIV':\n",
        "        return Div(left, right)\n",
        "    else:\n",
        "        raise AssertionError('Oops, this should not be possible!')\n",
        "\n",
        "parser = pg.build()"
      ],
      "execution_count": 23,
      "outputs": []
    },
    {
      "cell_type": "code",
      "metadata": {
        "id": "f9H91s7fFWdB",
        "outputId": "b11e4e21-e87b-4966-f71b-ff522d808ac2",
        "colab": {
          "base_uri": "https://localhost:8080/"
        }
      },
      "source": [
        "arvore=parser.parse(lexer.lex('1+2*3'))\n",
        "arvore.accept(Eval())"
      ],
      "execution_count": 24,
      "outputs": [
        {
          "output_type": "execute_result",
          "data": {
            "text/plain": [
              "7"
            ]
          },
          "metadata": {},
          "execution_count": 24
        }
      ]
    },
    {
      "cell_type": "code",
      "source": [
        "arvore.accept(Print())"
      ],
      "metadata": {
        "id": "vzY486trQ45c",
        "outputId": "cecd9b7c-04fd-4ff8-d413-4f7b6b8e09e9",
        "colab": {
          "base_uri": "https://localhost:8080/"
        }
      },
      "execution_count": 25,
      "outputs": [
        {
          "output_type": "stream",
          "name": "stdout",
          "text": [
            "1\n",
            "+\n",
            "2\n",
            "*\n",
            "3\n"
          ]
        }
      ]
    }
  ]
}